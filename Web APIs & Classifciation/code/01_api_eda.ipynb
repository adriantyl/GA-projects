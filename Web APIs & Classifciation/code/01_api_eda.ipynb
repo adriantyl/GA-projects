{
 "cells": [
  {
   "cell_type": "markdown",
   "metadata": {},
   "source": [
    "# Project 3: Web APIs & Classification"
   ]
  },
  {
   "cell_type": "markdown",
   "metadata": {},
   "source": [
    "General Assembly DSI 19 Project 3 Adrian Teng "
   ]
  },
  {
   "cell_type": "markdown",
   "metadata": {},
   "source": [
    "# Project Introduction"
   ]
  },
  {
   "cell_type": "markdown",
   "metadata": {},
   "source": [
    "1. Using Reddit's API to collect posts from two subreddits of your choosing.\n",
    "2. NLP to train a classifier on which subreddit a given post came from. This is a binary classification problem."
   ]
  },
  {
   "cell_type": "markdown",
   "metadata": {},
   "source": [
    "# Problem Statement"
   ]
  },
  {
   "cell_type": "markdown",
   "metadata": {},
   "source": [
    "We  hypothesis that by having two similar text-driven subreddits, as NLP will have a difficult time spotting the difference between the 2 subreddits. As there are over 1.5 million subreddits on reddit, we will be be classifying post from two subreddits that are heavily text driven, 'tifu' and 'confessions' respectively. \n",
    "\n",
    "We will be creating and comparing models: a logistic regression, a multinomial naive Bayes, a KNeighborsClassifier. The results obtained may be useful for reddit user who wants to submit his new post in the most optimal subreddit, so that he can attract more 'Upvotes' and 'Total rewards'."
   ]
  },
  {
   "cell_type": "markdown",
   "metadata": {},
   "source": [
    "# Executive Summary"
   ]
  },
  {
   "cell_type": "markdown",
   "metadata": {},
   "source": [
    "In this project, it is splitted into three parts respectively:\n",
    "- API & EDA (01_api_eda)\n",
    "- Processing & Modeling (02_processing_modeling)\n",
    "- Conclusion (03_conclusion)\n",
    "\n",
    "In the first notebook, 01_api_eda, data was scrapped from Reddit. After gathering the raw data from the Reddit, exploration was done and new dataframe was created to better match the selection of models. Data cleaning was done, and duplicates was removed to strengthen the effectiveness of the project. At the end, TfidVectorizer and Logistic Regression was decided, based on their accuracy result.\n"
   ]
  },
  {
   "cell_type": "markdown",
   "metadata": {},
   "source": [
    "## Content\n",
    "- Data Scarpping \n",
    "- EDA\n",
    "- Data Cleaning\n",
    "\n"
   ]
  },
  {
   "cell_type": "markdown",
   "metadata": {},
   "source": [
    "# Notebook 1: API AND EDA"
   ]
  },
  {
   "cell_type": "code",
   "execution_count": 6,
   "metadata": {},
   "outputs": [],
   "source": [
    "#Library imports\n",
    "\n",
    "import requests\n",
    "import numpy as np\n",
    "import time\n",
    "import pandas as pd\n",
    "import random\n",
    "import ast #convert string data to indexable list of dicts\n",
    "import seaborn as sns\n",
    "import scipy.stats as stats\n",
    "import matplotlib.pyplot as plt\n",
    "from sklearn.feature_extraction.text import TfidfVectorizer, CountVectorizer\n",
    "plt.style.use('fivethirtyeight')\n",
    "%matplotlib inline\n",
    "%config InlineBackend.figure_format = 'retina'\n",
    "pd.set_option('display.max_columns', None)"
   ]
  },
  {
   "cell_type": "markdown",
   "metadata": {},
   "source": [
    "### Data Scrapping"
   ]
  },
  {
   "cell_type": "code",
   "execution_count": null,
   "metadata": {},
   "outputs": [],
   "source": [
    "#define both subreddits url\n",
    "url_1 = 'https://www.reddit.com/r/tifu.json'\n",
    "url_2 = 'https://www.reddit.com/r/confessions.json'"
   ]
  },
  {
   "cell_type": "code",
   "execution_count": null,
   "metadata": {},
   "outputs": [],
   "source": [
    "#set new headers \n",
    "headers = {'User-agent': 'testtest12345'}"
   ]
  },
  {
   "cell_type": "code",
   "execution_count": null,
   "metadata": {},
   "outputs": [],
   "source": [
    "#get data from both websites \n",
    "res_1 = requests.get(url_1, headers=headers)\n",
    "res_2 = requests.get(url_2, headers=headers)"
   ]
  },
  {
   "cell_type": "code",
   "execution_count": null,
   "metadata": {},
   "outputs": [],
   "source": [
    "#use json for the data collected\n",
    "the_json_1 = res_1.json()\n",
    "the_json_2 = res_2.json()"
   ]
  },
  {
   "cell_type": "code",
   "execution_count": null,
   "metadata": {},
   "outputs": [],
   "source": [
    "#collect 1000 'after' with a loop for first url\n",
    "after_1 = None\n",
    "posts_1 = []\n",
    "url_1_pages = []\n",
    "url_1 = ''\n",
    "for _ in range(40):                       #every 1 loop, will obtain 25posts\n",
    "    print(f'Scraping {(_+1)*25} posts.')\n",
    "    if after_1 == None :\n",
    "        params = {}\n",
    "        url_1 = f\"https://www.reddit.com/r/tifu.json\"\n",
    "    else:\n",
    "        params = {'after':after_1}\n",
    "        url_1 = f\"https://www.reddit.com/r/tifu.json?after={params['after']}\"  # to obtain the next 25 posts\n",
    "    res_1 = requests.get(url_1, params=params, headers=headers)\n",
    "    if res_1.status_code == 200:\n",
    "        the_json_1 = res_1.json()\n",
    "        posts_1.extend(the_json_1['data']['children'])\n",
    "        after_1 = the_json_1['data']['after']\n",
    "        print(after_1)\n",
    "        url_1_pages.append(res_1.json()['data'])     #add the data into url_1_pages\n",
    "        print('url_1_pages length: ', len(url_1_pages))\n",
    "    else:\n",
    "        print(f'Error code: {res_1.status_code}.')\n",
    "        break\n",
    "    time.sleep(1)              #adding a delay when pulling data from reddit"
   ]
  },
  {
   "cell_type": "code",
   "execution_count": null,
   "metadata": {},
   "outputs": [],
   "source": [
    "len(posts_1)"
   ]
  },
  {
   "cell_type": "code",
   "execution_count": null,
   "metadata": {},
   "outputs": [],
   "source": [
    "# repeating the same loop for url 2\n",
    "after_2 = None\n",
    "posts_2 = []\n",
    "url_2_pages = []\n",
    "url_2 = ''\n",
    "for _ in range(40):\n",
    "    print(f'Scraping {(_+1)*25} posts.')\n",
    "    if after_2 == None :\n",
    "        params = {}\n",
    "        url_2 = f'https://www.reddit.com/r/confessions.json'\n",
    "    else:\n",
    "        params = {'after':after_2}\n",
    "        url_2 = f\"https://www.reddit.com/r/confessions.json?after={params['after']}\"\n",
    "    res_2 = requests.get(url_2, params=params, headers=headers)\n",
    "    if res_2.status_code == 200:\n",
    "        the_json_2 = res_2.json()\n",
    "        posts_2.extend(the_json_2['data']['children'])\n",
    "        after_2 = the_json_2['data']['after']\n",
    "        print(after_2)\n",
    "        url_2_pages.append(res_2.json()['data'])\n",
    "        print('url_2_pages length: ', len(url_2_pages))\n",
    "    else:\n",
    "        print(f'Error code: {res_2.status_code}.')\n",
    "        break\n",
    "    time.sleep(1)"
   ]
  },
  {
   "cell_type": "code",
   "execution_count": null,
   "metadata": {},
   "outputs": [],
   "source": [
    "len(posts_2)"
   ]
  },
  {
   "cell_type": "code",
   "execution_count": null,
   "metadata": {},
   "outputs": [],
   "source": [
    "#change the url_1/2_pages list into dataframe\n",
    "tifu_df = pd.DataFrame(url_1_pages)\n",
    "confessions_df = pd.DataFrame(url_2_pages)"
   ]
  },
  {
   "cell_type": "code",
   "execution_count": null,
   "metadata": {},
   "outputs": [],
   "source": [
    "tifu_df"
   ]
  },
  {
   "cell_type": "code",
   "execution_count": null,
   "metadata": {},
   "outputs": [],
   "source": [
    "#saving the dataframe as csv file\n",
    "tifu_df.to_csv('../datasets/tifu_post.csv', index = False, header = True)\n",
    "confessions_df.to_csv('../datasets/confessions_post.csv', index = False, header = True)"
   ]
  },
  {
   "cell_type": "markdown",
   "metadata": {},
   "source": [
    "### EDA\n",
    "\n",
    "Open the original API data just scrapped"
   ]
  },
  {
   "cell_type": "code",
   "execution_count": 7,
   "metadata": {},
   "outputs": [],
   "source": [
    "#read the new csv files saved\n",
    "tifu_posts = pd.read_csv('../datasets/tifu_post.csv')\n",
    "confessions_posts = pd.read_csv('../datasets/confessions_post.csv')"
   ]
  },
  {
   "cell_type": "code",
   "execution_count": 8,
   "metadata": {},
   "outputs": [
    {
     "data": {
      "text/html": [
       "<div>\n",
       "<style scoped>\n",
       "    .dataframe tbody tr th:only-of-type {\n",
       "        vertical-align: middle;\n",
       "    }\n",
       "\n",
       "    .dataframe tbody tr th {\n",
       "        vertical-align: top;\n",
       "    }\n",
       "\n",
       "    .dataframe thead th {\n",
       "        text-align: right;\n",
       "    }\n",
       "</style>\n",
       "<table border=\"1\" class=\"dataframe\">\n",
       "  <thead>\n",
       "    <tr style=\"text-align: right;\">\n",
       "      <th></th>\n",
       "      <th>modhash</th>\n",
       "      <th>dist</th>\n",
       "      <th>children</th>\n",
       "      <th>after</th>\n",
       "      <th>before</th>\n",
       "    </tr>\n",
       "  </thead>\n",
       "  <tbody>\n",
       "    <tr>\n",
       "      <th>0</th>\n",
       "      <td>NaN</td>\n",
       "      <td>25</td>\n",
       "      <td>[{'kind': 't3', 'data': {'approved_at_utc': No...</td>\n",
       "      <td>t3_ku9txr</td>\n",
       "      <td>NaN</td>\n",
       "    </tr>\n",
       "    <tr>\n",
       "      <th>1</th>\n",
       "      <td>NaN</td>\n",
       "      <td>25</td>\n",
       "      <td>[{'kind': 't3', 'data': {'approved_at_utc': No...</td>\n",
       "      <td>t3_kuxjbb</td>\n",
       "      <td>NaN</td>\n",
       "    </tr>\n",
       "    <tr>\n",
       "      <th>2</th>\n",
       "      <td>NaN</td>\n",
       "      <td>25</td>\n",
       "      <td>[{'kind': 't3', 'data': {'approved_at_utc': No...</td>\n",
       "      <td>t3_kv2ilw</td>\n",
       "      <td>NaN</td>\n",
       "    </tr>\n",
       "    <tr>\n",
       "      <th>3</th>\n",
       "      <td>NaN</td>\n",
       "      <td>25</td>\n",
       "      <td>[{'kind': 't3', 'data': {'approved_at_utc': No...</td>\n",
       "      <td>t3_ku9x43</td>\n",
       "      <td>NaN</td>\n",
       "    </tr>\n",
       "    <tr>\n",
       "      <th>4</th>\n",
       "      <td>NaN</td>\n",
       "      <td>25</td>\n",
       "      <td>[{'kind': 't3', 'data': {'approved_at_utc': No...</td>\n",
       "      <td>t3_ktzqoq</td>\n",
       "      <td>NaN</td>\n",
       "    </tr>\n",
       "  </tbody>\n",
       "</table>\n",
       "</div>"
      ],
      "text/plain": [
       "   modhash  dist                                           children  \\\n",
       "0      NaN    25  [{'kind': 't3', 'data': {'approved_at_utc': No...   \n",
       "1      NaN    25  [{'kind': 't3', 'data': {'approved_at_utc': No...   \n",
       "2      NaN    25  [{'kind': 't3', 'data': {'approved_at_utc': No...   \n",
       "3      NaN    25  [{'kind': 't3', 'data': {'approved_at_utc': No...   \n",
       "4      NaN    25  [{'kind': 't3', 'data': {'approved_at_utc': No...   \n",
       "\n",
       "       after  before  \n",
       "0  t3_ku9txr     NaN  \n",
       "1  t3_kuxjbb     NaN  \n",
       "2  t3_kv2ilw     NaN  \n",
       "3  t3_ku9x43     NaN  \n",
       "4  t3_ktzqoq     NaN  "
      ]
     },
     "execution_count": 8,
     "metadata": {},
     "output_type": "execute_result"
    }
   ],
   "source": [
    "confessions_posts.head()"
   ]
  },
  {
   "cell_type": "code",
   "execution_count": 9,
   "metadata": {},
   "outputs": [
    {
     "data": {
      "text/html": [
       "<div>\n",
       "<style scoped>\n",
       "    .dataframe tbody tr th:only-of-type {\n",
       "        vertical-align: middle;\n",
       "    }\n",
       "\n",
       "    .dataframe tbody tr th {\n",
       "        vertical-align: top;\n",
       "    }\n",
       "\n",
       "    .dataframe thead th {\n",
       "        text-align: right;\n",
       "    }\n",
       "</style>\n",
       "<table border=\"1\" class=\"dataframe\">\n",
       "  <thead>\n",
       "    <tr style=\"text-align: right;\">\n",
       "      <th></th>\n",
       "      <th>modhash</th>\n",
       "      <th>dist</th>\n",
       "      <th>children</th>\n",
       "      <th>after</th>\n",
       "      <th>before</th>\n",
       "    </tr>\n",
       "  </thead>\n",
       "  <tbody>\n",
       "    <tr>\n",
       "      <th>0</th>\n",
       "      <td>NaN</td>\n",
       "      <td>25</td>\n",
       "      <td>[{'kind': 't3', 'data': {'approved_at_utc': No...</td>\n",
       "      <td>t3_kuz8j2</td>\n",
       "      <td>NaN</td>\n",
       "    </tr>\n",
       "    <tr>\n",
       "      <th>1</th>\n",
       "      <td>NaN</td>\n",
       "      <td>25</td>\n",
       "      <td>[{'kind': 't3', 'data': {'approved_at_utc': No...</td>\n",
       "      <td>t3_kuv7nm</td>\n",
       "      <td>NaN</td>\n",
       "    </tr>\n",
       "    <tr>\n",
       "      <th>2</th>\n",
       "      <td>NaN</td>\n",
       "      <td>25</td>\n",
       "      <td>[{'kind': 't3', 'data': {'approved_at_utc': No...</td>\n",
       "      <td>t3_kucrkx</td>\n",
       "      <td>NaN</td>\n",
       "    </tr>\n",
       "    <tr>\n",
       "      <th>3</th>\n",
       "      <td>NaN</td>\n",
       "      <td>25</td>\n",
       "      <td>[{'kind': 't3', 'data': {'approved_at_utc': No...</td>\n",
       "      <td>t3_ku2pil</td>\n",
       "      <td>NaN</td>\n",
       "    </tr>\n",
       "    <tr>\n",
       "      <th>4</th>\n",
       "      <td>NaN</td>\n",
       "      <td>25</td>\n",
       "      <td>[{'kind': 't3', 'data': {'approved_at_utc': No...</td>\n",
       "      <td>t3_kud2zn</td>\n",
       "      <td>NaN</td>\n",
       "    </tr>\n",
       "  </tbody>\n",
       "</table>\n",
       "</div>"
      ],
      "text/plain": [
       "   modhash  dist                                           children  \\\n",
       "0      NaN    25  [{'kind': 't3', 'data': {'approved_at_utc': No...   \n",
       "1      NaN    25  [{'kind': 't3', 'data': {'approved_at_utc': No...   \n",
       "2      NaN    25  [{'kind': 't3', 'data': {'approved_at_utc': No...   \n",
       "3      NaN    25  [{'kind': 't3', 'data': {'approved_at_utc': No...   \n",
       "4      NaN    25  [{'kind': 't3', 'data': {'approved_at_utc': No...   \n",
       "\n",
       "       after  before  \n",
       "0  t3_kuz8j2     NaN  \n",
       "1  t3_kuv7nm     NaN  \n",
       "2  t3_kucrkx     NaN  \n",
       "3  t3_ku2pil     NaN  \n",
       "4  t3_kud2zn     NaN  "
      ]
     },
     "execution_count": 9,
     "metadata": {},
     "output_type": "execute_result"
    }
   ],
   "source": [
    "tifu_posts.head()"
   ]
  },
  {
   "cell_type": "code",
   "execution_count": 10,
   "metadata": {},
   "outputs": [],
   "source": [
    "#converting strings of dicts back into dicts stored in active notebook memory using literial_aval\n",
    "\n",
    "tifu_posts['children'] = tifu_posts.children.map(lambda x: ast.literal_eval(x))"
   ]
  },
  {
   "cell_type": "code",
   "execution_count": 11,
   "metadata": {},
   "outputs": [],
   "source": [
    "#converting strings of dicts back into dicts stored in active notebook memory using literial_aval\n",
    "\n",
    "confessions_posts['children'] = confessions_posts.children.map(lambda x: ast.literal_eval(x))"
   ]
  },
  {
   "cell_type": "code",
   "execution_count": 12,
   "metadata": {},
   "outputs": [
    {
     "data": {
      "text/html": [
       "<div>\n",
       "<style scoped>\n",
       "    .dataframe tbody tr th:only-of-type {\n",
       "        vertical-align: middle;\n",
       "    }\n",
       "\n",
       "    .dataframe tbody tr th {\n",
       "        vertical-align: top;\n",
       "    }\n",
       "\n",
       "    .dataframe thead th {\n",
       "        text-align: right;\n",
       "    }\n",
       "</style>\n",
       "<table border=\"1\" class=\"dataframe\">\n",
       "  <thead>\n",
       "    <tr style=\"text-align: right;\">\n",
       "      <th></th>\n",
       "      <th>modhash</th>\n",
       "      <th>dist</th>\n",
       "      <th>children</th>\n",
       "      <th>after</th>\n",
       "      <th>before</th>\n",
       "    </tr>\n",
       "  </thead>\n",
       "  <tbody>\n",
       "    <tr>\n",
       "      <th>0</th>\n",
       "      <td>NaN</td>\n",
       "      <td>25</td>\n",
       "      <td>[{'kind': 't3', 'data': {'approved_at_utc': No...</td>\n",
       "      <td>t3_kuz8j2</td>\n",
       "      <td>NaN</td>\n",
       "    </tr>\n",
       "    <tr>\n",
       "      <th>1</th>\n",
       "      <td>NaN</td>\n",
       "      <td>25</td>\n",
       "      <td>[{'kind': 't3', 'data': {'approved_at_utc': No...</td>\n",
       "      <td>t3_kuv7nm</td>\n",
       "      <td>NaN</td>\n",
       "    </tr>\n",
       "    <tr>\n",
       "      <th>2</th>\n",
       "      <td>NaN</td>\n",
       "      <td>25</td>\n",
       "      <td>[{'kind': 't3', 'data': {'approved_at_utc': No...</td>\n",
       "      <td>t3_kucrkx</td>\n",
       "      <td>NaN</td>\n",
       "    </tr>\n",
       "    <tr>\n",
       "      <th>3</th>\n",
       "      <td>NaN</td>\n",
       "      <td>25</td>\n",
       "      <td>[{'kind': 't3', 'data': {'approved_at_utc': No...</td>\n",
       "      <td>t3_ku2pil</td>\n",
       "      <td>NaN</td>\n",
       "    </tr>\n",
       "    <tr>\n",
       "      <th>4</th>\n",
       "      <td>NaN</td>\n",
       "      <td>25</td>\n",
       "      <td>[{'kind': 't3', 'data': {'approved_at_utc': No...</td>\n",
       "      <td>t3_kud2zn</td>\n",
       "      <td>NaN</td>\n",
       "    </tr>\n",
       "  </tbody>\n",
       "</table>\n",
       "</div>"
      ],
      "text/plain": [
       "   modhash  dist                                           children  \\\n",
       "0      NaN    25  [{'kind': 't3', 'data': {'approved_at_utc': No...   \n",
       "1      NaN    25  [{'kind': 't3', 'data': {'approved_at_utc': No...   \n",
       "2      NaN    25  [{'kind': 't3', 'data': {'approved_at_utc': No...   \n",
       "3      NaN    25  [{'kind': 't3', 'data': {'approved_at_utc': No...   \n",
       "4      NaN    25  [{'kind': 't3', 'data': {'approved_at_utc': No...   \n",
       "\n",
       "       after  before  \n",
       "0  t3_kuz8j2     NaN  \n",
       "1  t3_kuv7nm     NaN  \n",
       "2  t3_kucrkx     NaN  \n",
       "3  t3_ku2pil     NaN  \n",
       "4  t3_kud2zn     NaN  "
      ]
     },
     "execution_count": 12,
     "metadata": {},
     "output_type": "execute_result"
    }
   ],
   "source": [
    "tifu_posts.head()"
   ]
  },
  {
   "cell_type": "code",
   "execution_count": 13,
   "metadata": {},
   "outputs": [
    {
     "data": {
      "text/plain": [
       "(40, 5)"
      ]
     },
     "execution_count": 13,
     "metadata": {},
     "output_type": "execute_result"
    }
   ],
   "source": [
    "tifu_posts.shape"
   ]
  },
  {
   "cell_type": "code",
   "execution_count": 14,
   "metadata": {},
   "outputs": [
    {
     "data": {
      "text/plain": [
       "(40, 5)"
      ]
     },
     "execution_count": 14,
     "metadata": {},
     "output_type": "execute_result"
    }
   ],
   "source": [
    "confessions_posts.shape"
   ]
  },
  {
   "cell_type": "code",
   "execution_count": 15,
   "metadata": {},
   "outputs": [],
   "source": [
    "#saving post dicts in arrays\n",
    "tf_posts_b = tifu_posts['children']\n",
    "cfns_posts_b = confessions_posts['children']"
   ]
  },
  {
   "cell_type": "code",
   "execution_count": 16,
   "metadata": {},
   "outputs": [
    {
     "data": {
      "text/plain": [
       "0    [{'kind': 't3', 'data': {'approved_at_utc': No...\n",
       "1    [{'kind': 't3', 'data': {'approved_at_utc': No...\n",
       "2    [{'kind': 't3', 'data': {'approved_at_utc': No...\n",
       "3    [{'kind': 't3', 'data': {'approved_at_utc': No...\n",
       "4    [{'kind': 't3', 'data': {'approved_at_utc': No...\n",
       "Name: children, dtype: object"
      ]
     },
     "execution_count": 16,
     "metadata": {},
     "output_type": "execute_result"
    }
   ],
   "source": [
    "tf_posts_b.head()"
   ]
  },
  {
   "cell_type": "code",
   "execution_count": 17,
   "metadata": {},
   "outputs": [
    {
     "data": {
      "text/plain": [
       "0    [{'kind': 't3', 'data': {'approved_at_utc': No...\n",
       "1    [{'kind': 't3', 'data': {'approved_at_utc': No...\n",
       "2    [{'kind': 't3', 'data': {'approved_at_utc': No...\n",
       "3    [{'kind': 't3', 'data': {'approved_at_utc': No...\n",
       "4    [{'kind': 't3', 'data': {'approved_at_utc': No...\n",
       "Name: children, dtype: object"
      ]
     },
     "execution_count": 17,
     "metadata": {},
     "output_type": "execute_result"
    }
   ],
   "source": [
    "cfns_posts_b.head()"
   ]
  },
  {
   "cell_type": "code",
   "execution_count": 18,
   "metadata": {},
   "outputs": [
    {
     "name": "stdout",
     "output_type": "stream",
     "text": [
      "25\n",
      "25\n",
      "25\n",
      "25\n",
      "25\n",
      "25\n",
      "25\n",
      "25\n",
      "25\n",
      "25\n",
      "25\n",
      "25\n",
      "25\n",
      "25\n",
      "25\n",
      "25\n",
      "25\n",
      "25\n",
      "25\n",
      "25\n",
      "25\n",
      "25\n",
      "25\n",
      "20\n",
      "25\n",
      "25\n",
      "25\n",
      "25\n",
      "25\n",
      "25\n",
      "25\n",
      "25\n",
      "25\n",
      "25\n",
      "25\n",
      "25\n",
      "25\n",
      "25\n",
      "25\n",
      "25\n"
     ]
    }
   ],
   "source": [
    "#Print the number of posts\n",
    "\n",
    "for post in tf_posts_b:\n",
    "    print(len(post))"
   ]
  },
  {
   "cell_type": "markdown",
   "metadata": {},
   "source": [
    "### Looking deeper into 'data'\n",
    "\n",
    "#### Targeted Fields\n",
    "- Title: 'title'\n",
    "- Posts: 'selftext'\n",
    "- Author: 'author_fullname'\n",
    "- Upvotes: 'ups'\n",
    "- Down: 'downs'\n",
    "- Total Rewards: 'total_awards_received'"
   ]
  },
  {
   "cell_type": "code",
   "execution_count": 19,
   "metadata": {},
   "outputs": [
    {
     "data": {
      "text/plain": [
       "{'approved_at_utc': None,\n",
       " 'subreddit': 'tifu',\n",
       " 'selftext': 'Not a long story but as a new years resolution I told myself I would make an effort to compliment people because it always makes me feel good when I receive one.\\nSo this woman comes in and she\\'s really nice and friendly and as I\\'m making her coffee we are having a chat and she has this huge belt that is absolutely covered in those sparkly jewel thingies. So I say. \"I really like your belt it\\'s really shiny\" she smiles and says \"thanks\" so I go. \"I wish I could pull it off\" not thinking that it could mean something else other than I wish it looked good on me. she blushes and looks down and when I finish her coffee she looks at me and smiles and says \"thanks\" so my assistant manager comes over and she\\'s like \"did you just tell her you wanted to take her belt off?\" My face goes red as I realise what I said. I explained it to my assistant manager who just laughed and told me to think about what i say before I say it \\n\\nTl;dr complimented a customer on her belt and told her I wish I could pull it off.',\n",
       " 'author_fullname': 't2_3q0ykzzz',\n",
       " 'saved': False,\n",
       " 'mod_reason_title': None,\n",
       " 'gilded': 0,\n",
       " 'clicked': False,\n",
       " 'title': 'TIFU by accidentally hitting on a customer',\n",
       " 'link_flair_richtext': [],\n",
       " 'subreddit_name_prefixed': 'r/tifu',\n",
       " 'hidden': False,\n",
       " 'pwls': 7,\n",
       " 'link_flair_css_class': 'S',\n",
       " 'downs': 0,\n",
       " 'top_awarded_type': None,\n",
       " 'hide_score': False,\n",
       " 'name': 't3_kv09xh',\n",
       " 'quarantine': False,\n",
       " 'link_flair_text_color': 'light',\n",
       " 'upvote_ratio': 0.99,\n",
       " 'author_flair_background_color': None,\n",
       " 'subreddit_type': 'public',\n",
       " 'ups': 4869,\n",
       " 'total_awards_received': 14,\n",
       " 'media_embed': {},\n",
       " 'author_flair_template_id': None,\n",
       " 'is_original_content': False,\n",
       " 'user_reports': [],\n",
       " 'secure_media': None,\n",
       " 'is_reddit_media_domain': False,\n",
       " 'is_meta': False,\n",
       " 'category': None,\n",
       " 'secure_media_embed': {},\n",
       " 'link_flair_text': 'S',\n",
       " 'can_mod_post': False,\n",
       " 'score': 4869,\n",
       " 'approved_by': None,\n",
       " 'author_premium': False,\n",
       " 'thumbnail': '',\n",
       " 'edited': False,\n",
       " 'author_flair_css_class': None,\n",
       " 'author_flair_richtext': [],\n",
       " 'gildings': {'gid_1': 3},\n",
       " 'content_categories': None,\n",
       " 'is_self': True,\n",
       " 'mod_note': None,\n",
       " 'created': 1610390447.0,\n",
       " 'link_flair_type': 'text',\n",
       " 'wls': 7,\n",
       " 'removed_by_category': None,\n",
       " 'banned_by': None,\n",
       " 'author_flair_type': 'text',\n",
       " 'domain': 'self.tifu',\n",
       " 'allow_live_comments': True,\n",
       " 'selftext_html': '&lt;!-- SC_OFF --&gt;&lt;div class=\"md\"&gt;&lt;p&gt;Not a long story but as a new years resolution I told myself I would make an effort to compliment people because it always makes me feel good when I receive one.\\nSo this woman comes in and she&amp;#39;s really nice and friendly and as I&amp;#39;m making her coffee we are having a chat and she has this huge belt that is absolutely covered in those sparkly jewel thingies. So I say. &amp;quot;I really like your belt it&amp;#39;s really shiny&amp;quot; she smiles and says &amp;quot;thanks&amp;quot; so I go. &amp;quot;I wish I could pull it off&amp;quot; not thinking that it could mean something else other than I wish it looked good on me. she blushes and looks down and when I finish her coffee she looks at me and smiles and says &amp;quot;thanks&amp;quot; so my assistant manager comes over and she&amp;#39;s like &amp;quot;did you just tell her you wanted to take her belt off?&amp;quot; My face goes red as I realise what I said. I explained it to my assistant manager who just laughed and told me to think about what i say before I say it &lt;/p&gt;\\n\\n&lt;p&gt;Tl;dr complimented a customer on her belt and told her I wish I could pull it off.&lt;/p&gt;\\n&lt;/div&gt;&lt;!-- SC_ON --&gt;',\n",
       " 'likes': None,\n",
       " 'suggested_sort': None,\n",
       " 'banned_at_utc': None,\n",
       " 'view_count': None,\n",
       " 'archived': False,\n",
       " 'no_follow': False,\n",
       " 'is_crosspostable': False,\n",
       " 'pinned': False,\n",
       " 'over_18': False,\n",
       " 'all_awardings': [{'giver_coin_reward': None,\n",
       "   'subreddit_id': None,\n",
       "   'is_new': False,\n",
       "   'days_of_drip_extension': 0,\n",
       "   'coin_price': 125,\n",
       "   'id': 'award_5f123e3d-4f48-42f4-9c11-e98b566d5897',\n",
       "   'penny_donate': None,\n",
       "   'award_sub_type': 'GLOBAL',\n",
       "   'coin_reward': 0,\n",
       "   'icon_url': 'https://i.redd.it/award_images/t5_22cerq/5izbv4fn0md41_Wholesome.png',\n",
       "   'days_of_premium': 0,\n",
       "   'tiers_by_required_awardings': None,\n",
       "   'resized_icons': [{'url': 'https://preview.redd.it/award_images/t5_22cerq/5izbv4fn0md41_Wholesome.png?width=16&amp;height=16&amp;auto=webp&amp;s=92932f465d58e4c16b12b6eac4ca07d27e3d11c0',\n",
       "     'width': 16,\n",
       "     'height': 16},\n",
       "    {'url': 'https://preview.redd.it/award_images/t5_22cerq/5izbv4fn0md41_Wholesome.png?width=32&amp;height=32&amp;auto=webp&amp;s=d11484a208d68a318bf9d4fcf371171a1cb6a7ef',\n",
       "     'width': 32,\n",
       "     'height': 32},\n",
       "    {'url': 'https://preview.redd.it/award_images/t5_22cerq/5izbv4fn0md41_Wholesome.png?width=48&amp;height=48&amp;auto=webp&amp;s=febdf28b6f39f7da7eb1365325b85e0bb49a9f63',\n",
       "     'width': 48,\n",
       "     'height': 48},\n",
       "    {'url': 'https://preview.redd.it/award_images/t5_22cerq/5izbv4fn0md41_Wholesome.png?width=64&amp;height=64&amp;auto=webp&amp;s=b4406a2d88bf86fa3dc8a45aacf7e0c7bdccc4fb',\n",
       "     'width': 64,\n",
       "     'height': 64},\n",
       "    {'url': 'https://preview.redd.it/award_images/t5_22cerq/5izbv4fn0md41_Wholesome.png?width=128&amp;height=128&amp;auto=webp&amp;s=19555b13e3e196b62eeb9160d1ac1d1b372dcb0b',\n",
       "     'width': 128,\n",
       "     'height': 128}],\n",
       "   'icon_width': 2048,\n",
       "   'static_icon_width': 2048,\n",
       "   'start_date': None,\n",
       "   'is_enabled': True,\n",
       "   'awardings_required_to_grant_benefits': None,\n",
       "   'description': 'When you come across a feel-good thing.',\n",
       "   'end_date': None,\n",
       "   'subreddit_coin_reward': 0,\n",
       "   'count': 7,\n",
       "   'static_icon_height': 2048,\n",
       "   'name': 'Wholesome',\n",
       "   'resized_static_icons': [{'url': 'https://preview.redd.it/award_images/t5_22cerq/5izbv4fn0md41_Wholesome.png?width=16&amp;height=16&amp;auto=webp&amp;s=92932f465d58e4c16b12b6eac4ca07d27e3d11c0',\n",
       "     'width': 16,\n",
       "     'height': 16},\n",
       "    {'url': 'https://preview.redd.it/award_images/t5_22cerq/5izbv4fn0md41_Wholesome.png?width=32&amp;height=32&amp;auto=webp&amp;s=d11484a208d68a318bf9d4fcf371171a1cb6a7ef',\n",
       "     'width': 32,\n",
       "     'height': 32},\n",
       "    {'url': 'https://preview.redd.it/award_images/t5_22cerq/5izbv4fn0md41_Wholesome.png?width=48&amp;height=48&amp;auto=webp&amp;s=febdf28b6f39f7da7eb1365325b85e0bb49a9f63',\n",
       "     'width': 48,\n",
       "     'height': 48},\n",
       "    {'url': 'https://preview.redd.it/award_images/t5_22cerq/5izbv4fn0md41_Wholesome.png?width=64&amp;height=64&amp;auto=webp&amp;s=b4406a2d88bf86fa3dc8a45aacf7e0c7bdccc4fb',\n",
       "     'width': 64,\n",
       "     'height': 64},\n",
       "    {'url': 'https://preview.redd.it/award_images/t5_22cerq/5izbv4fn0md41_Wholesome.png?width=128&amp;height=128&amp;auto=webp&amp;s=19555b13e3e196b62eeb9160d1ac1d1b372dcb0b',\n",
       "     'width': 128,\n",
       "     'height': 128}],\n",
       "   'icon_format': None,\n",
       "   'icon_height': 2048,\n",
       "   'penny_price': None,\n",
       "   'award_type': 'global',\n",
       "   'static_icon_url': 'https://i.redd.it/award_images/t5_22cerq/5izbv4fn0md41_Wholesome.png'},\n",
       "  {'giver_coin_reward': None,\n",
       "   'subreddit_id': None,\n",
       "   'is_new': False,\n",
       "   'days_of_drip_extension': 0,\n",
       "   'coin_price': 100,\n",
       "   'id': 'gid_1',\n",
       "   'penny_donate': None,\n",
       "   'award_sub_type': 'GLOBAL',\n",
       "   'coin_reward': 0,\n",
       "   'icon_url': 'https://www.redditstatic.com/gold/awards/icon/silver_512.png',\n",
       "   'days_of_premium': 0,\n",
       "   'tiers_by_required_awardings': None,\n",
       "   'resized_icons': [{'url': 'https://www.redditstatic.com/gold/awards/icon/silver_16.png',\n",
       "     'width': 16,\n",
       "     'height': 16},\n",
       "    {'url': 'https://www.redditstatic.com/gold/awards/icon/silver_32.png',\n",
       "     'width': 32,\n",
       "     'height': 32},\n",
       "    {'url': 'https://www.redditstatic.com/gold/awards/icon/silver_48.png',\n",
       "     'width': 48,\n",
       "     'height': 48},\n",
       "    {'url': 'https://www.redditstatic.com/gold/awards/icon/silver_64.png',\n",
       "     'width': 64,\n",
       "     'height': 64},\n",
       "    {'url': 'https://www.redditstatic.com/gold/awards/icon/silver_128.png',\n",
       "     'width': 128,\n",
       "     'height': 128}],\n",
       "   'icon_width': 512,\n",
       "   'static_icon_width': 512,\n",
       "   'start_date': None,\n",
       "   'is_enabled': True,\n",
       "   'awardings_required_to_grant_benefits': None,\n",
       "   'description': \"Shows the Silver Award... and that's it.\",\n",
       "   'end_date': None,\n",
       "   'subreddit_coin_reward': 0,\n",
       "   'count': 3,\n",
       "   'static_icon_height': 512,\n",
       "   'name': 'Silver',\n",
       "   'resized_static_icons': [{'url': 'https://www.redditstatic.com/gold/awards/icon/silver_16.png',\n",
       "     'width': 16,\n",
       "     'height': 16},\n",
       "    {'url': 'https://www.redditstatic.com/gold/awards/icon/silver_32.png',\n",
       "     'width': 32,\n",
       "     'height': 32},\n",
       "    {'url': 'https://www.redditstatic.com/gold/awards/icon/silver_48.png',\n",
       "     'width': 48,\n",
       "     'height': 48},\n",
       "    {'url': 'https://www.redditstatic.com/gold/awards/icon/silver_64.png',\n",
       "     'width': 64,\n",
       "     'height': 64},\n",
       "    {'url': 'https://www.redditstatic.com/gold/awards/icon/silver_128.png',\n",
       "     'width': 128,\n",
       "     'height': 128}],\n",
       "   'icon_format': None,\n",
       "   'icon_height': 512,\n",
       "   'penny_price': None,\n",
       "   'award_type': 'global',\n",
       "   'static_icon_url': 'https://www.redditstatic.com/gold/awards/icon/silver_512.png'},\n",
       "  {'giver_coin_reward': 0,\n",
       "   'subreddit_id': None,\n",
       "   'is_new': False,\n",
       "   'days_of_drip_extension': 0,\n",
       "   'coin_price': 100,\n",
       "   'id': 'award_19860e30-3331-4bac-b3d1-bd28de0c7974',\n",
       "   'penny_donate': 0,\n",
       "   'award_sub_type': 'GLOBAL',\n",
       "   'coin_reward': 0,\n",
       "   'icon_url': 'https://i.redd.it/award_images/t5_22cerq/v1mxw8i6wnf51_Heartwarming.png',\n",
       "   'days_of_premium': 0,\n",
       "   'tiers_by_required_awardings': None,\n",
       "   'resized_icons': [{'url': 'https://preview.redd.it/award_images/t5_22cerq/v1mxw8i6wnf51_Heartwarming.png?width=16&amp;height=16&amp;auto=webp&amp;s=4e50438bd2d72ae5398e839ac2bdcccf323fca79',\n",
       "     'width': 16,\n",
       "     'height': 16},\n",
       "    {'url': 'https://preview.redd.it/award_images/t5_22cerq/v1mxw8i6wnf51_Heartwarming.png?width=32&amp;height=32&amp;auto=webp&amp;s=e730f68de038499700c6301470812c29ef6a8555',\n",
       "     'width': 32,\n",
       "     'height': 32},\n",
       "    {'url': 'https://preview.redd.it/award_images/t5_22cerq/v1mxw8i6wnf51_Heartwarming.png?width=48&amp;height=48&amp;auto=webp&amp;s=8d7c7fa22e6ff3b1b0a347839e42f493eb5f6cbc',\n",
       "     'width': 48,\n",
       "     'height': 48},\n",
       "    {'url': 'https://preview.redd.it/award_images/t5_22cerq/v1mxw8i6wnf51_Heartwarming.png?width=64&amp;height=64&amp;auto=webp&amp;s=11ec2a72e2724017bb8479639edce8a7f2ba64f4',\n",
       "     'width': 64,\n",
       "     'height': 64},\n",
       "    {'url': 'https://preview.redd.it/award_images/t5_22cerq/v1mxw8i6wnf51_Heartwarming.png?width=128&amp;height=128&amp;auto=webp&amp;s=1e936ae571e89abb5a5aaa2efd2d7cfb0ed1b537',\n",
       "     'width': 128,\n",
       "     'height': 128}],\n",
       "   'icon_width': 2048,\n",
       "   'static_icon_width': 2048,\n",
       "   'start_date': None,\n",
       "   'is_enabled': True,\n",
       "   'awardings_required_to_grant_benefits': None,\n",
       "   'description': 'I needed this today',\n",
       "   'end_date': None,\n",
       "   'subreddit_coin_reward': 0,\n",
       "   'count': 1,\n",
       "   'static_icon_height': 2048,\n",
       "   'name': 'Heartwarming',\n",
       "   'resized_static_icons': [{'url': 'https://preview.redd.it/award_images/t5_22cerq/v1mxw8i6wnf51_Heartwarming.png?width=16&amp;height=16&amp;auto=webp&amp;s=4e50438bd2d72ae5398e839ac2bdcccf323fca79',\n",
       "     'width': 16,\n",
       "     'height': 16},\n",
       "    {'url': 'https://preview.redd.it/award_images/t5_22cerq/v1mxw8i6wnf51_Heartwarming.png?width=32&amp;height=32&amp;auto=webp&amp;s=e730f68de038499700c6301470812c29ef6a8555',\n",
       "     'width': 32,\n",
       "     'height': 32},\n",
       "    {'url': 'https://preview.redd.it/award_images/t5_22cerq/v1mxw8i6wnf51_Heartwarming.png?width=48&amp;height=48&amp;auto=webp&amp;s=8d7c7fa22e6ff3b1b0a347839e42f493eb5f6cbc',\n",
       "     'width': 48,\n",
       "     'height': 48},\n",
       "    {'url': 'https://preview.redd.it/award_images/t5_22cerq/v1mxw8i6wnf51_Heartwarming.png?width=64&amp;height=64&amp;auto=webp&amp;s=11ec2a72e2724017bb8479639edce8a7f2ba64f4',\n",
       "     'width': 64,\n",
       "     'height': 64},\n",
       "    {'url': 'https://preview.redd.it/award_images/t5_22cerq/v1mxw8i6wnf51_Heartwarming.png?width=128&amp;height=128&amp;auto=webp&amp;s=1e936ae571e89abb5a5aaa2efd2d7cfb0ed1b537',\n",
       "     'width': 128,\n",
       "     'height': 128}],\n",
       "   'icon_format': 'PNG',\n",
       "   'icon_height': 2048,\n",
       "   'penny_price': 0,\n",
       "   'award_type': 'global',\n",
       "   'static_icon_url': 'https://i.redd.it/award_images/t5_22cerq/v1mxw8i6wnf51_Heartwarming.png'},\n",
       "  {'giver_coin_reward': 0,\n",
       "   'subreddit_id': None,\n",
       "   'is_new': False,\n",
       "   'days_of_drip_extension': 0,\n",
       "   'coin_price': 80,\n",
       "   'id': 'award_8352bdff-3e03-4189-8a08-82501dd8f835',\n",
       "   'penny_donate': 0,\n",
       "   'award_sub_type': 'GLOBAL',\n",
       "   'coin_reward': 0,\n",
       "   'icon_url': 'https://i.redd.it/award_images/t5_q0gj4/fpm0r5ryq1361_PolarHugs.png',\n",
       "   'days_of_premium': 0,\n",
       "   'tiers_by_required_awardings': None,\n",
       "   'resized_icons': [{'url': 'https://preview.redd.it/award_images/t5_q0gj4/fpm0r5ryq1361_PolarHugs.png?width=16&amp;height=16&amp;auto=webp&amp;s=69997ace3ef4ffc099b81d774c2c8f1530602875',\n",
       "     'width': 16,\n",
       "     'height': 16},\n",
       "    {'url': 'https://preview.redd.it/award_images/t5_q0gj4/fpm0r5ryq1361_PolarHugs.png?width=32&amp;height=32&amp;auto=webp&amp;s=e9519d1999ef9dce5c8a9f59369cb92f52d95319',\n",
       "     'width': 32,\n",
       "     'height': 32},\n",
       "    {'url': 'https://preview.redd.it/award_images/t5_q0gj4/fpm0r5ryq1361_PolarHugs.png?width=48&amp;height=48&amp;auto=webp&amp;s=f076c6434fb2d2f9075991810fd845c40fa73fc6',\n",
       "     'width': 48,\n",
       "     'height': 48},\n",
       "    {'url': 'https://preview.redd.it/award_images/t5_q0gj4/fpm0r5ryq1361_PolarHugs.png?width=64&amp;height=64&amp;auto=webp&amp;s=85527145e0c4b754306a30df29e584fd16187636',\n",
       "     'width': 64,\n",
       "     'height': 64},\n",
       "    {'url': 'https://preview.redd.it/award_images/t5_q0gj4/fpm0r5ryq1361_PolarHugs.png?width=128&amp;height=128&amp;auto=webp&amp;s=b8843cdf82c3b741d7af057c14076dcd2621e811',\n",
       "     'width': 128,\n",
       "     'height': 128}],\n",
       "   'icon_width': 2048,\n",
       "   'static_icon_width': 2048,\n",
       "   'start_date': None,\n",
       "   'is_enabled': True,\n",
       "   'awardings_required_to_grant_benefits': None,\n",
       "   'description': 'Everything is better with a good hug',\n",
       "   'end_date': None,\n",
       "   'subreddit_coin_reward': 0,\n",
       "   'count': 3,\n",
       "   'static_icon_height': 2048,\n",
       "   'name': 'Hugz',\n",
       "   'resized_static_icons': [{'url': 'https://preview.redd.it/award_images/t5_q0gj4/fpm0r5ryq1361_PolarHugs.png?width=16&amp;height=16&amp;auto=webp&amp;s=69997ace3ef4ffc099b81d774c2c8f1530602875',\n",
       "     'width': 16,\n",
       "     'height': 16},\n",
       "    {'url': 'https://preview.redd.it/award_images/t5_q0gj4/fpm0r5ryq1361_PolarHugs.png?width=32&amp;height=32&amp;auto=webp&amp;s=e9519d1999ef9dce5c8a9f59369cb92f52d95319',\n",
       "     'width': 32,\n",
       "     'height': 32},\n",
       "    {'url': 'https://preview.redd.it/award_images/t5_q0gj4/fpm0r5ryq1361_PolarHugs.png?width=48&amp;height=48&amp;auto=webp&amp;s=f076c6434fb2d2f9075991810fd845c40fa73fc6',\n",
       "     'width': 48,\n",
       "     'height': 48},\n",
       "    {'url': 'https://preview.redd.it/award_images/t5_q0gj4/fpm0r5ryq1361_PolarHugs.png?width=64&amp;height=64&amp;auto=webp&amp;s=85527145e0c4b754306a30df29e584fd16187636',\n",
       "     'width': 64,\n",
       "     'height': 64},\n",
       "    {'url': 'https://preview.redd.it/award_images/t5_q0gj4/fpm0r5ryq1361_PolarHugs.png?width=128&amp;height=128&amp;auto=webp&amp;s=b8843cdf82c3b741d7af057c14076dcd2621e811',\n",
       "     'width': 128,\n",
       "     'height': 128}],\n",
       "   'icon_format': 'PNG',\n",
       "   'icon_height': 2048,\n",
       "   'penny_price': 0,\n",
       "   'award_type': 'global',\n",
       "   'static_icon_url': 'https://i.redd.it/award_images/t5_q0gj4/fpm0r5ryq1361_PolarHugs.png'}],\n",
       " 'awarders': [],\n",
       " 'media_only': False,\n",
       " 'link_flair_template_id': '3f671638-fe53-11e4-9139-0e96a3f5c15d',\n",
       " 'can_gild': False,\n",
       " 'spoiler': False,\n",
       " 'locked': False,\n",
       " 'author_flair_text': None,\n",
       " 'treatment_tags': [],\n",
       " 'visited': False,\n",
       " 'removed_by': None,\n",
       " 'num_reports': None,\n",
       " 'distinguished': None,\n",
       " 'subreddit_id': 't5_2to41',\n",
       " 'mod_reason_by': None,\n",
       " 'removal_reason': None,\n",
       " 'link_flair_background_color': '#2b87f3',\n",
       " 'id': 'kv09xh',\n",
       " 'is_robot_indexable': True,\n",
       " 'report_reasons': None,\n",
       " 'author': 'thespunkmunky',\n",
       " 'discussion_type': None,\n",
       " 'num_comments': 118,\n",
       " 'send_replies': True,\n",
       " 'whitelist_status': 'some_ads',\n",
       " 'contest_mode': False,\n",
       " 'mod_reports': [],\n",
       " 'author_patreon_flair': False,\n",
       " 'author_flair_text_color': None,\n",
       " 'permalink': '/r/tifu/comments/kv09xh/tifu_by_accidentally_hitting_on_a_customer/',\n",
       " 'parent_whitelist_status': 'some_ads',\n",
       " 'stickied': False,\n",
       " 'url': 'https://www.reddit.com/r/tifu/comments/kv09xh/tifu_by_accidentally_hitting_on_a_customer/',\n",
       " 'subreddit_subscribers': 16686551,\n",
       " 'created_utc': 1610361647.0,\n",
       " 'num_crossposts': 1,\n",
       " 'media': None,\n",
       " 'is_video': False}"
      ]
     },
     "execution_count": 19,
     "metadata": {},
     "output_type": "execute_result"
    }
   ],
   "source": [
    "tf_posts_b[0][0]['data']"
   ]
  },
  {
   "cell_type": "code",
   "execution_count": 20,
   "metadata": {},
   "outputs": [
    {
     "data": {
      "text/plain": [
       "'Not a long story but as a new years resolution I told myself I would make an effort to compliment people because it always makes me feel good when I receive one.\\nSo this woman comes in and she\\'s really nice and friendly and as I\\'m making her coffee we are having a chat and she has this huge belt that is absolutely covered in those sparkly jewel thingies. So I say. \"I really like your belt it\\'s really shiny\" she smiles and says \"thanks\" so I go. \"I wish I could pull it off\" not thinking that it could mean something else other than I wish it looked good on me. she blushes and looks down and when I finish her coffee she looks at me and smiles and says \"thanks\" so my assistant manager comes over and she\\'s like \"did you just tell her you wanted to take her belt off?\" My face goes red as I realise what I said. I explained it to my assistant manager who just laughed and told me to think about what i say before I say it \\n\\nTl;dr complimented a customer on her belt and told her I wish I could pull it off.'"
      ]
     },
     "execution_count": 20,
     "metadata": {},
     "output_type": "execute_result"
    }
   ],
   "source": [
    "tf_posts_b[0][0]['data']['selftext']"
   ]
  },
  {
   "cell_type": "code",
   "execution_count": 21,
   "metadata": {},
   "outputs": [
    {
     "data": {
      "text/plain": [
       "\"I recently became homeless two months ago. I tried SO hard not to become homeless but I was a bartender and obviously my industry has been hit hard by covid. \\n\\nI feel humiliated. I have no family since last year when my mother passed away other than a father who pretends I don't exist...  With everyone struggling I have no friends I can turn too and it's so embarrassing to me. I don't want anyone to even know. i'm so cold all the time. Im so hungry. And im just tired. All day I've just thought of how to kill myself and it seems like a relief if I could.  I see no way out of this and my job gave me only 3 shifts this week. I just don't care anymore... I just want to be warm. I just ..  I give up. I just give up.  I'd give anything to be warm for a night. To be able to eat.  I can't do it anymore. Im trying so hard to find a new job but.. I can't even shower. I've been cleaning up in my work bathroom and im terrified they know.  I just want it to end. I want to not have to worry about how to survive another day.  I seriously try to hide the best i can every night because im female and it's so dangerous out here. I get harassed almost every night and have evaded danger so far but that won't last forever. I didn't know who else to tell.  I don't know if anyone has anything they can say to give me hope but I've given myself a deadline and it actually feels like relief and i don't know why im even waiting because im sitting here freezing barely even able to type and it could.... All be over. I just need the balls.\""
      ]
     },
     "execution_count": 21,
     "metadata": {},
     "output_type": "execute_result"
    }
   ],
   "source": [
    "cfns_posts_b[0][0]['data']['selftext']"
   ]
  },
  {
   "cell_type": "code",
   "execution_count": 22,
   "metadata": {},
   "outputs": [
    {
     "data": {
      "text/plain": [
       "'t2_3q0ykzzz'"
      ]
     },
     "execution_count": 22,
     "metadata": {},
     "output_type": "execute_result"
    }
   ],
   "source": [
    "tf_posts_b[0][0]['data']['author_fullname']"
   ]
  },
  {
   "cell_type": "code",
   "execution_count": 23,
   "metadata": {},
   "outputs": [
    {
     "data": {
      "text/plain": [
       "'t2_95vgtyl1'"
      ]
     },
     "execution_count": 23,
     "metadata": {},
     "output_type": "execute_result"
    }
   ],
   "source": [
    "cfns_posts_b[0][0]['data']['author_fullname']"
   ]
  },
  {
   "cell_type": "code",
   "execution_count": 24,
   "metadata": {},
   "outputs": [
    {
     "data": {
      "text/plain": [
       "4869"
      ]
     },
     "execution_count": 24,
     "metadata": {},
     "output_type": "execute_result"
    }
   ],
   "source": [
    "tf_posts_b[0][0]['data']['ups']"
   ]
  },
  {
   "cell_type": "code",
   "execution_count": 25,
   "metadata": {},
   "outputs": [
    {
     "data": {
      "text/plain": [
       "0"
      ]
     },
     "execution_count": 25,
     "metadata": {},
     "output_type": "execute_result"
    }
   ],
   "source": [
    "tf_posts_b[0][24]['data']['downs']"
   ]
  },
  {
   "cell_type": "code",
   "execution_count": 26,
   "metadata": {},
   "outputs": [
    {
     "data": {
      "text/plain": [
       "2927"
      ]
     },
     "execution_count": 26,
     "metadata": {},
     "output_type": "execute_result"
    }
   ],
   "source": [
    "cfns_posts_b[0][0]['data']['ups']"
   ]
  },
  {
   "cell_type": "code",
   "execution_count": 27,
   "metadata": {},
   "outputs": [
    {
     "data": {
      "text/plain": [
       "0"
      ]
     },
     "execution_count": 27,
     "metadata": {},
     "output_type": "execute_result"
    }
   ],
   "source": [
    "cfns_posts_b[0][0]['data']['downs']"
   ]
  },
  {
   "cell_type": "markdown",
   "metadata": {},
   "source": [
    "### Collecting the post attributes\n",
    "\n",
    "Each subbreddit post batch (sized 25 posts) was iterate though the loop to return the value from each attribute's key"
   ]
  },
  {
   "cell_type": "code",
   "execution_count": 28,
   "metadata": {},
   "outputs": [],
   "source": [
    "tf_titles = [tf_posts_b[j][k]['data']['title'] for j in range(len(tf_posts_b))\n",
    "                for k in range (len(tf_posts_b[j]))]\n",
    "                         \n",
    "cfns_titles = [cfns_posts_b[j][k]['data']['title'] for j in range(len(cfns_posts_b))\n",
    "                for k in range (len(cfns_posts_b[j]))]"
   ]
  },
  {
   "cell_type": "code",
   "execution_count": 29,
   "metadata": {},
   "outputs": [],
   "source": [
    "tf_posts = [tf_posts_b[j][k]['data']['selftext'] for j in range(len(tf_posts_b))\n",
    "                for k in range (len(tf_posts_b[j]))]\n",
    "                         \n",
    "cfns_posts = [cfns_posts_b[j][k]['data']['selftext'] for j in range(len(cfns_posts_b))\n",
    "                for k in range (len(cfns_posts_b[j]))]"
   ]
  },
  {
   "cell_type": "code",
   "execution_count": 30,
   "metadata": {},
   "outputs": [],
   "source": [
    "tf_posts = [tf_posts_b[j][k]['data']['selftext'] for j in range(len(tf_posts_b))\n",
    "                for k in range (len(tf_posts_b[j]))]\n",
    "                         \n",
    "cfns_posts = [cfns_posts_b[j][k]['data']['selftext'] for j in range(len(cfns_posts_b))\n",
    "                for k in range (len(cfns_posts_b[j]))]"
   ]
  },
  {
   "cell_type": "code",
   "execution_count": 31,
   "metadata": {},
   "outputs": [],
   "source": [
    "tf_ups = [tf_posts_b[j][k]['data']['ups'] for j in range(len(tf_posts_b))\n",
    "                for k in range (len(tf_posts_b[j]))]\n",
    "                         \n",
    "cfns_ups = [cfns_posts_b[j][k]['data']['ups'] for j in range(len(cfns_posts_b))\n",
    "                for k in range (len(cfns_posts_b[j]))]"
   ]
  },
  {
   "cell_type": "code",
   "execution_count": 32,
   "metadata": {},
   "outputs": [],
   "source": [
    "tf_tr = [tf_posts_b[j][k]['data']['total_awards_received'] for j in range(len(tf_posts_b))\n",
    "                for k in range (len(tf_posts_b[j]))]\n",
    "                         \n",
    "cfns_tr = [cfns_posts_b[j][k]['data']['total_awards_received'] for j in range(len(cfns_posts_b))\n",
    "                for k in range (len(cfns_posts_b[j]))]"
   ]
  },
  {
   "cell_type": "code",
   "execution_count": 33,
   "metadata": {},
   "outputs": [],
   "source": [
    "tf_downs = [tf_posts_b[j][k]['data']['downs'] for j in range(len(tf_posts_b))\n",
    "                for k in range (len(tf_posts_b[j]))]\n",
    "                         \n",
    "cfns_downs = [cfns_posts_b[j][k]['data']['downs'] for j in range(len(cfns_posts_b))\n",
    "                for k in range (len(cfns_posts_b[j]))]"
   ]
  },
  {
   "cell_type": "code",
   "execution_count": 34,
   "metadata": {},
   "outputs": [],
   "source": [
    "tf_authors = [] # empty lists to store results\n",
    "cfns_authors = []\n",
    "\n",
    "for j in range(len(tf_posts_b)): # for each post (size 25)\n",
    "    for k in range(len(tf_posts_b[j])): # for each post in each scrape\n",
    "        try:\n",
    "            tf_authors.append(tf_posts_b[j][k]['data']['author_fullname']) # attempt to add to list\n",
    "        except:\n",
    "            tf_authors.append('no author') # if it fails, add text stating 'no author'\n",
    "            \n",
    "for j in range(len(cfns_posts_b)): # for each post in each scrape\n",
    "    for k in range(len(cfns_posts_b[j])): # for each individual post\n",
    "        try:\n",
    "            cfns_authors.append(cfns_posts_b[i][j]['data']['author_fullname']) # attempt to add to list\n",
    "        except:\n",
    "            cfns_authors.append('no author') # if it fails, add instead 'no author'"
   ]
  },
  {
   "cell_type": "code",
   "execution_count": 35,
   "metadata": {},
   "outputs": [
    {
     "data": {
      "text/plain": [
       "1139.0753768844222"
      ]
     },
     "execution_count": 35,
     "metadata": {},
     "output_type": "execute_result"
    }
   ],
   "source": [
    "#mean of upvotes in 'tifu'\n",
    "mean_tf_ups = sum(tf_ups)/len(tf_ups)\n",
    "mean_tf_ups"
   ]
  },
  {
   "cell_type": "code",
   "execution_count": 45,
   "metadata": {},
   "outputs": [
    {
     "data": {
      "text/plain": [
       "88.95175879396984"
      ]
     },
     "execution_count": 45,
     "metadata": {},
     "output_type": "execute_result"
    }
   ],
   "source": [
    "#mean of upvotes in 'confessions'\n",
    "mean_cfns_ups = sum(cfns_ups)/len(cfns_ups)\n",
    "mean_cfns_ups"
   ]
  },
  {
   "cell_type": "code",
   "execution_count": 37,
   "metadata": {},
   "outputs": [
    {
     "data": {
      "text/plain": [
       "5.154773869346734"
      ]
     },
     "execution_count": 37,
     "metadata": {},
     "output_type": "execute_result"
    }
   ],
   "source": [
    "#mean of total rewards in 'tifu'\n",
    "mean_tf_tr = sum(tf_tr)/len(tf_tr)\n",
    "mean_tf_tr"
   ]
  },
  {
   "cell_type": "code",
   "execution_count": 38,
   "metadata": {},
   "outputs": [
    {
     "data": {
      "text/plain": [
       "0.4793969849246231"
      ]
     },
     "execution_count": 38,
     "metadata": {},
     "output_type": "execute_result"
    }
   ],
   "source": [
    "#mean of total rewards in 'confession'\n",
    "mean_cfns_tr = sum(cfns_tr)/len(cfns_tr)\n",
    "mean_cfns_tr"
   ]
  },
  {
   "cell_type": "code",
   "execution_count": 46,
   "metadata": {},
   "outputs": [
    {
     "data": {
      "text/plain": [
       "<matplotlib.legend.Legend at 0x7f8acd70d670>"
      ]
     },
     "execution_count": 46,
     "metadata": {},
     "output_type": "execute_result"
    },
    {
     "data": {
      "image/png": "[encoded data removed]",
      "text/plain": [
       "<Figure size 432x288 with 1 Axes>"
      ]
     },
     "metadata": {
      "image/png": {
       "height": 261,
       "width": 435
      },
      "needs_background": "light"
     },
     "output_type": "display_data"
    }
   ],
   "source": [
    "labels = ['Upvotes']\n",
    "tifu_means = [mean_tf_ups]\n",
    "cfns_means = [mean_cfns_ups]\n",
    "\n",
    "x = np.arange(len(labels))  # the label locations\n",
    "width = 0.15  # the width of the bars\n",
    "\n",
    "fig, ax = plt.subplots()\n",
    "rects1 = ax.bar(x - width/2, tifu_means, width, label=\"tifu's upvotes\")\n",
    "rects2 = ax.bar(x + width/2, cfns_means, width, label=\"confessions's upvotes\")\n",
    "\n",
    "# Add some text for labels, title and custom x-axis tick labels, etc.\n",
    "ax.set_ylabel('Mean of Upvotes')\n",
    "ax.set_title('Tifu VS Confessions')\n",
    "ax.set_xticks(x)\n",
    "ax.set_xticklabels(labels)\n",
    "ax.legend()"
   ]
  },
  {
   "cell_type": "code",
   "execution_count": 40,
   "metadata": {},
   "outputs": [
    {
     "data": {
      "text/plain": [
       "<matplotlib.legend.Legend at 0x7f8ad234b100>"
      ]
     },
     "execution_count": 40,
     "metadata": {},
     "output_type": "execute_result"
    },
    {
     "data": {
      "image/png": "[encoded data removed]",
      "text/plain": [
       "<Figure size 432x288 with 1 Axes>"
      ]
     },
     "metadata": {
      "image/png": {
       "height": 261,
       "width": 416
      },
      "needs_background": "light"
     },
     "output_type": "display_data"
    }
   ],
   "source": [
    "labels = ['Total Rewards']\n",
    "tifu_means = [mean_tf_tr]\n",
    "cfns_means = [mean_cfns_tr]\n",
    "\n",
    "x = np.arange(len(labels))  # the label locations\n",
    "width = 0.15  # the width of the bars\n",
    "\n",
    "fig, ax = plt.subplots()\n",
    "rects1 = ax.bar(x - width/2, tifu_means, width, label=\"tifu's total rewards\")\n",
    "rects2 = ax.bar(x + width/2, cfns_means, width, label=\"confessions's total rewards\")\n",
    "\n",
    "# Add some text for labels, title and custom x-axis tick labels, etc.\n",
    "ax.set_ylabel('Mean of Total Rewards')\n",
    "ax.set_title('Tifu VS Confessions')\n",
    "ax.set_xticks(x)\n",
    "ax.set_xticklabels(labels)\n",
    "ax.legend()"
   ]
  },
  {
   "cell_type": "markdown",
   "metadata": {},
   "source": [
    "From the bar chart, we can deduced that 'tifu' is around 5 times higher in getting 'upvotes' and 'total rewards' as compared to a similar subreddits 'confessions'."
   ]
  },
  {
   "cell_type": "code",
   "execution_count": 49,
   "metadata": {},
   "outputs": [
    {
     "name": "stdout",
     "output_type": "stream",
     "text": [
      "12139\n"
     ]
    },
    {
     "data": {
      "text/plain": [
       "just        1799\n",
       "like        1334\n",
       "time         998\n",
       "didn         976\n",
       "got          936\n",
       "dr           791\n",
       "tl           779\n",
       "really       736\n",
       "know         733\n",
       "went         730\n",
       "said         634\n",
       "day          591\n",
       "thought      589\n",
       "going        582\n",
       "don          581\n",
       "ve           572\n",
       "happened     533\n",
       "today        499\n",
       "did          487\n",
       "started      467\n",
       "dtype: int64"
      ]
     },
     "execution_count": 49,
     "metadata": {},
     "output_type": "execute_result"
    }
   ],
   "source": [
    "#print top 20 words in tf_posts\n",
    "cvec = CountVectorizer(stop_words='english')\n",
    "cvec.fit(tf_posts)\n",
    "\n",
    "len_features = len(cvec.get_feature_names())\n",
    "print(len_features)\n",
    "\n",
    "tf_posts_cv = pd.DataFrame(cvec.transform(tf_posts).todense(),columns=cvec.get_feature_names())\n",
    "\n",
    "top_tf = tf_posts_cv.sum(axis=0)\n",
    "top_tf.sort_values(ascending = False).head(20)"
   ]
  },
  {
   "cell_type": "code",
   "execution_count": 54,
   "metadata": {},
   "outputs": [
    {
     "data": {
      "text/html": [
       "<div>\n",
       "<style scoped>\n",
       "    .dataframe tbody tr th:only-of-type {\n",
       "        vertical-align: middle;\n",
       "    }\n",
       "\n",
       "    .dataframe tbody tr th {\n",
       "        vertical-align: top;\n",
       "    }\n",
       "\n",
       "    .dataframe thead th {\n",
       "        text-align: right;\n",
       "    }\n",
       "</style>\n",
       "<table border=\"1\" class=\"dataframe\">\n",
       "  <thead>\n",
       "    <tr style=\"text-align: right;\">\n",
       "      <th></th>\n",
       "      <th>word</th>\n",
       "      <th>count</th>\n",
       "      <th>freq</th>\n",
       "    </tr>\n",
       "  </thead>\n",
       "  <tbody>\n",
       "    <tr>\n",
       "      <th>5833</th>\n",
       "      <td>just</td>\n",
       "      <td>1799</td>\n",
       "      <td>180.804020</td>\n",
       "    </tr>\n",
       "    <tr>\n",
       "      <th>6154</th>\n",
       "      <td>like</td>\n",
       "      <td>1334</td>\n",
       "      <td>134.070352</td>\n",
       "    </tr>\n",
       "    <tr>\n",
       "      <th>10890</th>\n",
       "      <td>time</td>\n",
       "      <td>998</td>\n",
       "      <td>100.301508</td>\n",
       "    </tr>\n",
       "    <tr>\n",
       "      <th>2985</th>\n",
       "      <td>didn</td>\n",
       "      <td>976</td>\n",
       "      <td>98.090452</td>\n",
       "    </tr>\n",
       "    <tr>\n",
       "      <th>4651</th>\n",
       "      <td>got</td>\n",
       "      <td>936</td>\n",
       "      <td>94.070352</td>\n",
       "    </tr>\n",
       "    <tr>\n",
       "      <th>3263</th>\n",
       "      <td>dr</td>\n",
       "      <td>791</td>\n",
       "      <td>79.497487</td>\n",
       "    </tr>\n",
       "    <tr>\n",
       "      <th>10924</th>\n",
       "      <td>tl</td>\n",
       "      <td>779</td>\n",
       "      <td>78.291457</td>\n",
       "    </tr>\n",
       "    <tr>\n",
       "      <th>8483</th>\n",
       "      <td>really</td>\n",
       "      <td>736</td>\n",
       "      <td>73.969849</td>\n",
       "    </tr>\n",
       "    <tr>\n",
       "      <th>5934</th>\n",
       "      <td>know</td>\n",
       "      <td>733</td>\n",
       "      <td>73.668342</td>\n",
       "    </tr>\n",
       "    <tr>\n",
       "      <th>11827</th>\n",
       "      <td>went</td>\n",
       "      <td>730</td>\n",
       "      <td>73.366834</td>\n",
       "    </tr>\n",
       "  </tbody>\n",
       "</table>\n",
       "</div>"
      ],
      "text/plain": [
       "         word  count        freq\n",
       "5833     just   1799  180.804020\n",
       "6154     like   1334  134.070352\n",
       "10890    time    998  100.301508\n",
       "2985     didn    976   98.090452\n",
       "4651      got    936   94.070352\n",
       "3263       dr    791   79.497487\n",
       "10924      tl    779   78.291457\n",
       "8483   really    736   73.969849\n",
       "5934     know    733   73.668342\n",
       "11827    went    730   73.366834"
      ]
     },
     "execution_count": 54,
     "metadata": {},
     "output_type": "execute_result"
    }
   ],
   "source": [
    "# get top words in tf_posts\n",
    "\n",
    "df_top_tf = top_tf.to_frame(name='count')\n",
    "df_top_tf['word'] = df_top_tf.index\n",
    "df_top_tf.reset_index(drop=True, inplace=True)\n",
    "df_top_tf['freq'] = df_top_tf['count'] / len(tf_posts) * 100\n",
    "\n",
    "cols = ['word','count','freq']\n",
    "df_top_tf = df_top_tf[cols]\n",
    "df_top_tf.sort_values(by='count',ascending=False, inplace=True)\n",
    "df_top_tf.head(10)"
   ]
  },
  {
   "cell_type": "code",
   "execution_count": 50,
   "metadata": {},
   "outputs": [
    {
     "name": "stdout",
     "output_type": "stream",
     "text": [
      "9774\n"
     ]
    },
    {
     "data": {
      "text/plain": [
       "just       1077\n",
       "like        962\n",
       "don         744\n",
       "know        644\n",
       "feel        589\n",
       "want        504\n",
       "ve          504\n",
       "time        496\n",
       "really      488\n",
       "people      429\n",
       "life        370\n",
       "didn        351\n",
       "think       351\n",
       "got         335\n",
       "years       308\n",
       "friends     297\n",
       "did         283\n",
       "day         263\n",
       "started     256\n",
       "said        253\n",
       "dtype: int64"
      ]
     },
     "execution_count": 50,
     "metadata": {},
     "output_type": "execute_result"
    }
   ],
   "source": [
    "#print top 20 words in cfns_posts\n",
    "cvec = CountVectorizer(stop_words='english')\n",
    "cvec.fit(cfns_posts)\n",
    "\n",
    "len_features = len(cvec.get_feature_names())\n",
    "print(len_features)\n",
    "\n",
    "cfns_posts_cv = pd.DataFrame(cvec.transform(cfns_posts).todense(),columns=cvec.get_feature_names())\n",
    "\n",
    "top_cfns = cfns_posts_cv.sum(axis=0)\n",
    "top_cfns.sort_values(ascending = False).head(20)"
   ]
  },
  {
   "cell_type": "code",
   "execution_count": 55,
   "metadata": {},
   "outputs": [
    {
     "data": {
      "text/html": [
       "<div>\n",
       "<style scoped>\n",
       "    .dataframe tbody tr th:only-of-type {\n",
       "        vertical-align: middle;\n",
       "    }\n",
       "\n",
       "    .dataframe tbody tr th {\n",
       "        vertical-align: top;\n",
       "    }\n",
       "\n",
       "    .dataframe thead th {\n",
       "        text-align: right;\n",
       "    }\n",
       "</style>\n",
       "<table border=\"1\" class=\"dataframe\">\n",
       "  <thead>\n",
       "    <tr style=\"text-align: right;\">\n",
       "      <th></th>\n",
       "      <th>word</th>\n",
       "      <th>count</th>\n",
       "      <th>freq</th>\n",
       "    </tr>\n",
       "  </thead>\n",
       "  <tbody>\n",
       "    <tr>\n",
       "      <th>4790</th>\n",
       "      <td>just</td>\n",
       "      <td>1077</td>\n",
       "      <td>108.241206</td>\n",
       "    </tr>\n",
       "    <tr>\n",
       "      <th>5077</th>\n",
       "      <td>like</td>\n",
       "      <td>962</td>\n",
       "      <td>96.683417</td>\n",
       "    </tr>\n",
       "    <tr>\n",
       "      <th>2657</th>\n",
       "      <td>don</td>\n",
       "      <td>744</td>\n",
       "      <td>74.773869</td>\n",
       "    </tr>\n",
       "    <tr>\n",
       "      <th>4881</th>\n",
       "      <td>know</td>\n",
       "      <td>644</td>\n",
       "      <td>64.723618</td>\n",
       "    </tr>\n",
       "    <tr>\n",
       "      <th>3306</th>\n",
       "      <td>feel</td>\n",
       "      <td>589</td>\n",
       "      <td>59.195980</td>\n",
       "    </tr>\n",
       "    <tr>\n",
       "      <th>9419</th>\n",
       "      <td>want</td>\n",
       "      <td>504</td>\n",
       "      <td>50.653266</td>\n",
       "    </tr>\n",
       "    <tr>\n",
       "      <th>9285</th>\n",
       "      <td>ve</td>\n",
       "      <td>504</td>\n",
       "      <td>50.653266</td>\n",
       "    </tr>\n",
       "    <tr>\n",
       "      <th>8812</th>\n",
       "      <td>time</td>\n",
       "      <td>496</td>\n",
       "      <td>49.849246</td>\n",
       "    </tr>\n",
       "    <tr>\n",
       "      <th>6974</th>\n",
       "      <td>really</td>\n",
       "      <td>488</td>\n",
       "      <td>49.045226</td>\n",
       "    </tr>\n",
       "    <tr>\n",
       "      <th>6300</th>\n",
       "      <td>people</td>\n",
       "      <td>429</td>\n",
       "      <td>43.115578</td>\n",
       "    </tr>\n",
       "  </tbody>\n",
       "</table>\n",
       "</div>"
      ],
      "text/plain": [
       "        word  count        freq\n",
       "4790    just   1077  108.241206\n",
       "5077    like    962   96.683417\n",
       "2657     don    744   74.773869\n",
       "4881    know    644   64.723618\n",
       "3306    feel    589   59.195980\n",
       "9419    want    504   50.653266\n",
       "9285      ve    504   50.653266\n",
       "8812    time    496   49.849246\n",
       "6974  really    488   49.045226\n",
       "6300  people    429   43.115578"
      ]
     },
     "execution_count": 55,
     "metadata": {},
     "output_type": "execute_result"
    }
   ],
   "source": [
    "# get top words in cfns_posts\n",
    "\n",
    "df_top_cfns = top_cfns.to_frame(name='count')\n",
    "df_top_cfns['word'] = df_top_cfns.index\n",
    "df_top_cfns.reset_index(drop=True, inplace=True)\n",
    "df_top_cfns['freq'] = df_top_cfns['count'] / len(tf_posts) * 100\n",
    "\n",
    "cols = ['word','count','freq']\n",
    "df_top_cfns = df_top_cfns[cols]\n",
    "df_top_cfns.sort_values(by='count',ascending=False, inplace=True)\n",
    "df_top_cfns.head(10)"
   ]
  },
  {
   "cell_type": "code",
   "execution_count": 57,
   "metadata": {},
   "outputs": [
    {
     "data": {
      "image/png": "[encoded data removed]",
      "text/plain": [
       "<Figure size 1440x720 with 1 Axes>"
      ]
     },
     "metadata": {
      "image/png": {
       "height": 621,
       "width": 1359
      }
     },
     "output_type": "display_data"
    }
   ],
   "source": [
    "#plot top 20 tifu words, count\n",
    "plt.figure(figsize=(20,10))\n",
    "plt.title('TIFU: Top 20 Words',fontsize=25)\n",
    "\n",
    "sns.set_style(\"whitegrid\")\n",
    "sns.barplot(data=df_top_tf.head(20),x='freq',y='word',orient='h')\n",
    "\n",
    "plt.xlabel('frequency (%)',fontsize=20)\n",
    "plt.ylabel('word',fontsize=20)\n",
    "plt.tick_params(labelsize=15)\n",
    "\n"
   ]
  },
  {
   "cell_type": "code",
   "execution_count": 58,
   "metadata": {},
   "outputs": [
    {
     "data": {
      "image/png": "[encoded data removed]",
      "text/plain": [
       "<Figure size 1440x720 with 1 Axes>"
      ]
     },
     "metadata": {
      "image/png": {
       "height": 621,
       "width": 1338
      }
     },
     "output_type": "display_data"
    }
   ],
   "source": [
    "#plot cfns top 20 words, count\n",
    "plt.figure(figsize=(20,10))\n",
    "plt.title('Confesssions: Top 20 Words',fontsize=25)\n",
    "\n",
    "sns.set_style(\"whitegrid\")\n",
    "sns.barplot(data=df_top_cfns.head(20),x='freq',y='word',orient='h')\n",
    "\n",
    "plt.xlabel('frequency (%)',fontsize=20)\n",
    "plt.ylabel('word',fontsize=20)\n",
    "plt.tick_params(labelsize=15)"
   ]
  },
  {
   "cell_type": "markdown",
   "metadata": {},
   "source": [
    "The top 20 words for both subreddit are similar."
   ]
  },
  {
   "cell_type": "code",
   "execution_count": 240,
   "metadata": {},
   "outputs": [],
   "source": [
    "#creating dataframe\n",
    "\n",
    "tf_df = pd.DataFrame([tf_titles, tf_authors, tf_posts, tf_ups], \n",
    "                     index=['title', 'authors', 'posts', 'upvotes'])\n",
    "\n",
    "cfns_df = pd.DataFrame([cfns_titles, cfns_authors, cfns_posts, cfns_ups], \n",
    "                     index=['title', 'authors', 'posts', 'upvotes'])"
   ]
  },
  {
   "cell_type": "code",
   "execution_count": 241,
   "metadata": {},
   "outputs": [],
   "source": [
    "#Transpose the dataframe\n",
    "tf_df = tf_df.T"
   ]
  },
  {
   "cell_type": "code",
   "execution_count": 242,
   "metadata": {},
   "outputs": [],
   "source": [
    "cfns_df = cfns_df.T"
   ]
  },
  {
   "cell_type": "code",
   "execution_count": 111,
   "metadata": {},
   "outputs": [],
   "source": [
    "tf_df.to_csv('../datasets/tf_df.csv', index = False)\n",
    "cfns_df.to_csv('../datasets/cfns_df.csv', index = False)"
   ]
  },
  {
   "cell_type": "markdown",
   "metadata": {},
   "source": [
    "### Data Cleaning"
   ]
  },
  {
   "cell_type": "code",
   "execution_count": 119,
   "metadata": {},
   "outputs": [
    {
     "data": {
      "text/plain": [
       "0"
      ]
     },
     "execution_count": 119,
     "metadata": {},
     "output_type": "execute_result"
    }
   ],
   "source": [
    "#checking for the nan values\n",
    "tf_df['title'].isnull().sum()"
   ]
  },
  {
   "cell_type": "code",
   "execution_count": 120,
   "metadata": {},
   "outputs": [
    {
     "data": {
      "text/plain": [
       "0"
      ]
     },
     "execution_count": 120,
     "metadata": {},
     "output_type": "execute_result"
    }
   ],
   "source": [
    "cfns_df['posts'].isnull().sum()"
   ]
  },
  {
   "cell_type": "code",
   "execution_count": 121,
   "metadata": {},
   "outputs": [],
   "source": [
    "#removing the duplicate of posts\n",
    "tf_df.drop_duplicates(subset='title', inplace = True)\n",
    "cfns_df.drop_duplicates(subset='title', inplace = True)"
   ]
  },
  {
   "cell_type": "code",
   "execution_count": 122,
   "metadata": {},
   "outputs": [
    {
     "name": "stdout",
     "output_type": "stream",
     "text": [
      "595\n"
     ]
    }
   ],
   "source": [
    "print(len(tf_df))"
   ]
  },
  {
   "cell_type": "code",
   "execution_count": 118,
   "metadata": {},
   "outputs": [
    {
     "name": "stdout",
     "output_type": "stream",
     "text": [
      "887\n"
     ]
    }
   ],
   "source": [
    "print(len(cfns_df))"
   ]
  },
  {
   "cell_type": "code",
   "execution_count": 129,
   "metadata": {},
   "outputs": [],
   "source": [
    "#giving an identity before concat\n",
    "tf_df['tifu'] = 1\n",
    "cfns_df['tifu'] = 0"
   ]
  },
  {
   "cell_type": "code",
   "execution_count": 130,
   "metadata": {},
   "outputs": [],
   "source": [
    "#combine both dataframe\n",
    "df = pd.concat([tf_df, cfns_df])"
   ]
  },
  {
   "cell_type": "code",
   "execution_count": 131,
   "metadata": {},
   "outputs": [],
   "source": [
    "#adding new column into the datadframe \n",
    "df['content'] = df['title'] + ' ' + df['posts']"
   ]
  },
  {
   "cell_type": "code",
   "execution_count": 132,
   "metadata": {},
   "outputs": [
    {
     "data": {
      "text/plain": [
       "(1482, 6)"
      ]
     },
     "execution_count": 132,
     "metadata": {},
     "output_type": "execute_result"
    }
   ],
   "source": [
    "df.shape"
   ]
  },
  {
   "cell_type": "code",
   "execution_count": 133,
   "metadata": {},
   "outputs": [
    {
     "data": {
      "text/html": [
       "<div>\n",
       "<style scoped>\n",
       "    .dataframe tbody tr th:only-of-type {\n",
       "        vertical-align: middle;\n",
       "    }\n",
       "\n",
       "    .dataframe tbody tr th {\n",
       "        vertical-align: top;\n",
       "    }\n",
       "\n",
       "    .dataframe thead th {\n",
       "        text-align: right;\n",
       "    }\n",
       "</style>\n",
       "<table border=\"1\" class=\"dataframe\">\n",
       "  <thead>\n",
       "    <tr style=\"text-align: right;\">\n",
       "      <th></th>\n",
       "      <th>title</th>\n",
       "      <th>authors</th>\n",
       "      <th>posts</th>\n",
       "      <th>upvotes</th>\n",
       "      <th>tifu</th>\n",
       "      <th>content</th>\n",
       "    </tr>\n",
       "  </thead>\n",
       "  <tbody>\n",
       "    <tr>\n",
       "      <th>0</th>\n",
       "      <td>TIFU by accidentally hitting on a customer</td>\n",
       "      <td>t2_3q0ykzzz</td>\n",
       "      <td>Not a long story but as a new years resolution...</td>\n",
       "      <td>4869</td>\n",
       "      <td>1</td>\n",
       "      <td>TIFU by accidentally hitting on a customer Not...</td>\n",
       "    </tr>\n",
       "    <tr>\n",
       "      <th>1</th>\n",
       "      <td>TIFU by making someone think I was going to mu...</td>\n",
       "      <td>t2_azh6y</td>\n",
       "      <td>This just happened and I can't believe I didn'...</td>\n",
       "      <td>22880</td>\n",
       "      <td>1</td>\n",
       "      <td>TIFU by making someone think I was going to mu...</td>\n",
       "    </tr>\n",
       "    <tr>\n",
       "      <th>2</th>\n",
       "      <td>TIFU by having my husband examine me</td>\n",
       "      <td>t2_8gfpn13y</td>\n",
       "      <td>This happened last night.\\n\\nI am seven months...</td>\n",
       "      <td>9895</td>\n",
       "      <td>1</td>\n",
       "      <td>TIFU by having my husband examine me This happ...</td>\n",
       "    </tr>\n",
       "    <tr>\n",
       "      <th>3</th>\n",
       "      <td>TIFU by taking a new dose of ADHD medication a...</td>\n",
       "      <td>t2_9rkodgxe</td>\n",
       "      <td>TIFU. Yes, today. Just now. I am still trying ...</td>\n",
       "      <td>387</td>\n",
       "      <td>1</td>\n",
       "      <td>TIFU by taking a new dose of ADHD medication a...</td>\n",
       "    </tr>\n",
       "    <tr>\n",
       "      <th>4</th>\n",
       "      <td>Tifu by sitting too close to the fire to escap...</td>\n",
       "      <td>t2_5rfxegiq</td>\n",
       "      <td>TL/DR down the bottom. \\n\\nNote: Maybe not sui...</td>\n",
       "      <td>15661</td>\n",
       "      <td>1</td>\n",
       "      <td>Tifu by sitting too close to the fire to escap...</td>\n",
       "    </tr>\n",
       "  </tbody>\n",
       "</table>\n",
       "</div>"
      ],
      "text/plain": [
       "                                               title      authors  \\\n",
       "0         TIFU by accidentally hitting on a customer  t2_3q0ykzzz   \n",
       "1  TIFU by making someone think I was going to mu...     t2_azh6y   \n",
       "2               TIFU by having my husband examine me  t2_8gfpn13y   \n",
       "3  TIFU by taking a new dose of ADHD medication a...  t2_9rkodgxe   \n",
       "4  Tifu by sitting too close to the fire to escap...  t2_5rfxegiq   \n",
       "\n",
       "                                               posts upvotes  tifu  \\\n",
       "0  Not a long story but as a new years resolution...    4869     1   \n",
       "1  This just happened and I can't believe I didn'...   22880     1   \n",
       "2  This happened last night.\\n\\nI am seven months...    9895     1   \n",
       "3  TIFU. Yes, today. Just now. I am still trying ...     387     1   \n",
       "4  TL/DR down the bottom. \\n\\nNote: Maybe not sui...   15661     1   \n",
       "\n",
       "                                             content  \n",
       "0  TIFU by accidentally hitting on a customer Not...  \n",
       "1  TIFU by making someone think I was going to mu...  \n",
       "2  TIFU by having my husband examine me This happ...  \n",
       "3  TIFU by taking a new dose of ADHD medication a...  \n",
       "4  Tifu by sitting too close to the fire to escap...  "
      ]
     },
     "execution_count": 133,
     "metadata": {},
     "output_type": "execute_result"
    }
   ],
   "source": [
    "df.head()"
   ]
  },
  {
   "cell_type": "code",
   "execution_count": 135,
   "metadata": {},
   "outputs": [],
   "source": [
    "df.to_csv('../datasets/tifucofns.csv', index = False, header = True)"
   ]
  }
 ],
 "metadata": {
  "kernelspec": {
   "display_name": "Python 3",
   "language": "python",
   "name": "python3"
  },
  "language_info": {
   "codemirror_mode": {
    "name": "ipython",
    "version": 3
   },
   "file_extension": ".py",
   "mimetype": "text/x-python",
   "name": "python",
   "nbconvert_exporter": "python",
   "pygments_lexer": "ipython3",
   "version": "3.8.5"
  }
 },
 "nbformat": 4,
 "nbformat_minor": 4
}
